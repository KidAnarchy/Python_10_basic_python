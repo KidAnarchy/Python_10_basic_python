{
 "cells": [
  {
   "cell_type": "markdown",
   "metadata": {},
   "source": [
    "### For Loops"
   ]
  },
  {
   "cell_type": "markdown",
   "metadata": {},
   "source": [
    "The for loop\n",
    "\n",
    "for loop : Repeats a set of statements over a group of value."
   ]
  },
  {
   "cell_type": "code",
   "execution_count": 1,
   "metadata": {},
   "outputs": [
    {
     "name": "stdout",
     "output_type": "stream",
     "text": [
      "[0, 1, 2, 3, 4, 5, 6, 7, 8, 9]\n"
     ]
    }
   ],
   "source": [
    "x = list(range(0,10))\n",
    "print(x)"
   ]
  },
  {
   "cell_type": "code",
   "execution_count": 2,
   "metadata": {},
   "outputs": [
    {
     "name": "stdout",
     "output_type": "stream",
     "text": [
      "0\n",
      "1\n",
      "2\n",
      "3\n",
      "4\n",
      "5\n",
      "6\n",
      "7\n",
      "8\n",
      "9\n"
     ]
    }
   ],
   "source": [
    "for i in range(0, 10):\n",
    "  print(i)"
   ]
  },
  {
   "cell_type": "code",
   "execution_count": 5,
   "metadata": {},
   "outputs": [
    {
     "name": "stdout",
     "output_type": "stream",
     "text": [
      "WoW\n",
      "WoW\n",
      "WoW\n",
      "WoW\n",
      "WoW\n",
      "WoW\n",
      "WoW\n",
      "WoW\n",
      "WoW\n",
      "WoW\n"
     ]
    }
   ],
   "source": [
    "for i in range(0, 10):\n",
    "  print('WoW')"
   ]
  },
  {
   "cell_type": "code",
   "execution_count": 10,
   "metadata": {},
   "outputs": [
    {
     "name": "stdout",
     "output_type": "stream",
     "text": [
      "0\n",
      "2\n",
      "4\n",
      "6\n",
      "8\n",
      "10\n",
      "12\n",
      "14\n",
      "16\n",
      "18\n"
     ]
    }
   ],
   "source": [
    "for i in x:\n",
    "    print(i + i)"
   ]
  },
  {
   "cell_type": "code",
   "execution_count": 3,
   "metadata": {},
   "outputs": [
    {
     "name": "stdout",
     "output_type": "stream",
     "text": [
      " 2 multiply 0 Get 0\n",
      " 2 multiply 1 Get 2\n",
      " 2 multiply 2 Get 4\n",
      " 2 multiply 3 Get 6\n",
      " 2 multiply 4 Get 8\n",
      " 2 multiply 5 Get 10\n",
      " 2 multiply 6 Get 12\n",
      " 2 multiply 7 Get 14\n",
      " 2 multiply 8 Get 16\n",
      " 2 multiply 9 Get 18\n"
     ]
    }
   ],
   "source": [
    "for i in range(0, 10):\n",
    "  print(' 2 multiply '+str(i)+' Get '+str(2*i))"
   ]
  },
  {
   "cell_type": "code",
   "execution_count": 4,
   "metadata": {},
   "outputs": [
    {
     "name": "stdout",
     "output_type": "stream",
     "text": [
      "2\n",
      "4\n",
      "20\n"
     ]
    }
   ],
   "source": [
    "L =[1,2,10]\n",
    "for s in L:\n",
    "    print(s * 2)"
   ]
  },
  {
   "cell_type": "code",
   "execution_count": 7,
   "metadata": {},
   "outputs": [
    {
     "name": "stdout",
     "output_type": "stream",
     "text": [
      "b\n",
      "o\n",
      "o\n",
      "y\n",
      "a\n",
      "h\n"
     ]
    }
   ],
   "source": [
    "# Example:\n",
    "\n",
    "# text processing : Examining, editing, \n",
    "#formatting often uses loops that examine the characters of a string one by one\n",
    "\n",
    "for c in \"booyah\":\n",
    "      print (c)"
   ]
  },
  {
   "cell_type": "code",
   "execution_count": 11,
   "metadata": {},
   "outputs": [
    {
     "name": "stdout",
     "output_type": "stream",
     "text": [
      "1 squared is 1\n",
      "2 squared is 4\n",
      "3 squared is 9\n",
      "4 squared is 16\n",
      "5 squared is 25\n"
     ]
    }
   ],
   "source": [
    "# Example:\n",
    "for x in range(1, 6):\n",
    "    print(x, \"squared is\", x * x)"
   ]
  },
  {
   "cell_type": "markdown",
   "metadata": {},
   "source": [
    "### Range()"
   ]
  },
  {
   "cell_type": "code",
   "execution_count": 24,
   "metadata": {},
   "outputs": [
    {
     "data": {
      "text/plain": [
       "range(0, 5)"
      ]
     },
     "execution_count": 24,
     "metadata": {},
     "output_type": "execute_result"
    }
   ],
   "source": [
    "range(5)"
   ]
  },
  {
   "cell_type": "code",
   "execution_count": 25,
   "metadata": {},
   "outputs": [
    {
     "name": "stdout",
     "output_type": "stream",
     "text": [
      "0\n",
      "1\n",
      "2\n",
      "3\n",
      "4\n"
     ]
    }
   ],
   "source": [
    "for i in range(5):\n",
    "    print(i)"
   ]
  },
  {
   "cell_type": "code",
   "execution_count": 26,
   "metadata": {},
   "outputs": [
    {
     "data": {
      "text/plain": [
       "[0, 1, 2, 3, 4]"
      ]
     },
     "execution_count": 26,
     "metadata": {},
     "output_type": "execute_result"
    }
   ],
   "source": [
    "list(range(5))"
   ]
  },
  {
   "cell_type": "code",
   "execution_count": 13,
   "metadata": {},
   "outputs": [],
   "source": [
    "# range( start , stop) the integers between start (inclusive) \n",
    "# and stop (exclusive)\n",
    "\n",
    "# 3rd value\n",
    "# range( start , stop, step) the integers between start (inclusive) \n",
    "# and stop (exclusive) by step"
   ]
  },
  {
   "cell_type": "code",
   "execution_count": 20,
   "metadata": {},
   "outputs": [
    {
     "name": "stdout",
     "output_type": "stream",
     "text": [
      "1\n"
     ]
    }
   ],
   "source": [
    "#Example:\n",
    "for x in range(5, 0):\n",
    "    print (x)\n",
    "print (x)"
   ]
  },
  {
   "cell_type": "code",
   "execution_count": 19,
   "metadata": {},
   "outputs": [
    {
     "name": "stdout",
     "output_type": "stream",
     "text": [
      "5\n",
      "4\n",
      "3\n",
      "2\n",
      "1\n",
      "Blastoff!\n"
     ]
    }
   ],
   "source": [
    "#Example:\n",
    "for x in range(5, 0,-1):\n",
    "    print (x)\n",
    "print (\"Blastoff!\")"
   ]
  },
  {
   "cell_type": "code",
   "execution_count": null,
   "metadata": {},
   "outputs": [],
   "source": [
    "\"\"\"\n",
    "Cumulative loops\n",
    "\n",
    "Some loops incrementally compute a value that is initialized outside the loop. \n",
    "This is sometimes called a cumulative sum\n",
    "\"\"\""
   ]
  },
  {
   "cell_type": "code",
   "execution_count": 21,
   "metadata": {},
   "outputs": [
    {
     "name": "stdout",
     "output_type": "stream",
     "text": [
      "sum of first 5 squares is 55\n"
     ]
    }
   ],
   "source": [
    "sum = 0\n",
    "for i in range(1, 6):\n",
    "    sum = sum + (i * i)\n",
    "print (\"sum of first\", i ,\"squares is\", sum)"
   ]
  },
  {
   "cell_type": "code",
   "execution_count": null,
   "metadata": {},
   "outputs": [],
   "source": [
    "# 1*1=1\n",
    "# 2*2=4\n",
    "# 3*3=9\n",
    "# 4*4=16\n",
    "# 5*5=25\n",
    "# 1+4+9+16+25=55"
   ]
  },
  {
   "cell_type": "code",
   "execution_count": 22,
   "metadata": {},
   "outputs": [
    {
     "name": "stdout",
     "output_type": "stream",
     "text": [
      "0 Degree Celcius is 32.0 Degree Farenheit\n",
      "10 Degree Celcius is 50.0 Degree Farenheit\n",
      "20 Degree Celcius is 68.0 Degree Farenheit\n",
      "30 Degree Celcius is 86.0 Degree Farenheit\n",
      "40 Degree Celcius is 104.0 Degree Farenheit\n",
      "50 Degree Celcius is 122.0 Degree Farenheit\n",
      "60 Degree Celcius is 140.0 Degree Farenheit\n",
      "70 Degree Celcius is 158.0 Degree Farenheit\n",
      "80 Degree Celcius is 176.0 Degree Farenheit\n",
      "90 Degree Celcius is 194.0 Degree Farenheit\n",
      "100 Degree Celcius is 212.0 Degree Farenheit\n"
     ]
    }
   ],
   "source": [
    "\"\"\"\n",
    "Temperature changer program\n",
    "\n",
    "from 0,10,20,30....,100 to Farenheit\n",
    "\n",
    "𝐹=32.0+1.8𝐶\n",
    "\"\"\"\n",
    "\n",
    "for c in range(0,101,10):\n",
    "  F = 32.0 + 1.8*c\n",
    "  print(str(c)+' Degree Celcius is '+str(F)+' Degree Farenheit')"
   ]
  },
  {
   "cell_type": "code",
   "execution_count": null,
   "metadata": {},
   "outputs": [],
   "source": []
  }
 ],
 "metadata": {
  "kernelspec": {
   "display_name": "Python 3",
   "language": "python",
   "name": "python3"
  },
  "language_info": {
   "codemirror_mode": {
    "name": "ipython",
    "version": 3
   },
   "file_extension": ".py",
   "mimetype": "text/x-python",
   "name": "python",
   "nbconvert_exporter": "python",
   "pygments_lexer": "ipython3",
   "version": "3.8.5"
  }
 },
 "nbformat": 4,
 "nbformat_minor": 4
}
