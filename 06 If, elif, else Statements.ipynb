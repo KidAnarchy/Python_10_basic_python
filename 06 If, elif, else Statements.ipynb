{
 "cells": [
  {
   "cell_type": "markdown",
   "metadata": {},
   "source": [
    "### If\n",
    "\n",
    "#### if statement : Executes a group of statements only if a certain condition is true. Otherwise, the statements are skipped."
   ]
  },
  {
   "cell_type": "code",
   "execution_count": 1,
   "metadata": {},
   "outputs": [
    {
     "name": "stdout",
     "output_type": "stream",
     "text": [
      "Greater than 3\n"
     ]
    }
   ],
   "source": [
    "a = 4\n",
    "if a > 3:\n",
    "  print('Greater than 3')"
   ]
  },
  {
   "cell_type": "code",
   "execution_count": 2,
   "metadata": {},
   "outputs": [],
   "source": [
    "a = 2\n",
    "if a > 3:\n",
    "  print('Greater than 3')"
   ]
  },
  {
   "cell_type": "markdown",
   "metadata": {},
   "source": [
    "### If / Else\n",
    "\n",
    "#### if/else statement : Executes one block of statements if a certain condition is True, and a second block of statements if it is False."
   ]
  },
  {
   "cell_type": "code",
   "execution_count": 3,
   "metadata": {},
   "outputs": [
    {
     "name": "stdout",
     "output_type": "stream",
     "text": [
      "Not Gearter than 3\n"
     ]
    }
   ],
   "source": [
    "a = 2\n",
    "if a > 3:\n",
    "  print('Greater than 3')\n",
    "else:\n",
    "  print('Not Gearter than 3')"
   ]
  },
  {
   "cell_type": "code",
   "execution_count": 4,
   "metadata": {},
   "outputs": [
    {
     "name": "stdout",
     "output_type": "stream",
     "text": [
      "Equal to 3\n"
     ]
    }
   ],
   "source": [
    "a = 3\n",
    "if a > 3:\n",
    "  print('Greater than 3')\n",
    "elif a==3:\n",
    "  print('Equal to 3')\n",
    "else:\n",
    "  print('Smaller than 3')"
   ]
  },
  {
   "cell_type": "code",
   "execution_count": 5,
   "metadata": {},
   "outputs": [
    {
     "name": "stdout",
     "output_type": "stream",
     "text": [
      "middle\n"
     ]
    }
   ],
   "source": [
    "if 1 == 2:\n",
    "    print('first')\n",
    "elif 3 == 3:\n",
    "    print('middle')\n",
    "else:\n",
    "    print('Last')"
   ]
  },
  {
   "cell_type": "markdown",
   "metadata": {},
   "source": [
    "### Example"
   ]
  },
  {
   "cell_type": "code",
   "execution_count": 6,
   "metadata": {},
   "outputs": [
    {
     "name": "stdout",
     "output_type": "stream",
     "text": [
      "Your application is denied.\n"
     ]
    }
   ],
   "source": [
    "#Example:\n",
    "gpa =1.4\n",
    "if gpa >2.0:\n",
    "    print (\"Welcome to CMU University!\")\n",
    "else:\n",
    "    print (\"Your application is denied.\")"
   ]
  },
  {
   "cell_type": "code",
   "execution_count": 7,
   "metadata": {},
   "outputs": [
    {
     "name": "stdout",
     "output_type": "stream",
     "text": [
      "GPA=3.5\n",
      "Welcome to CMU University!\n"
     ]
    }
   ],
   "source": [
    "gpa =float(input(\"GPA=\"))\n",
    "if gpa >2.0:\n",
    "    print (\"Welcome to CMU University!\")\n",
    "else:\n",
    "    print (\"Your application is denied.\")"
   ]
  },
  {
   "cell_type": "code",
   "execution_count": 8,
   "metadata": {},
   "outputs": [
    {
     "name": "stdout",
     "output_type": "stream",
     "text": [
      "Input your test score:78\n",
      "B\n"
     ]
    }
   ],
   "source": [
    "# Calculate Grade of student program\n",
    "\n",
    "y = float(input('Input your test score:'))\n",
    "\n",
    "if y>=80:\n",
    "  print('A')\n",
    "elif y>=70:\n",
    "  print('B')\n",
    "elif y>=60:\n",
    "  print('C')\n",
    "elif y>=50:\n",
    "  print('D')\n",
    "else:\n",
    "  print('Fail')"
   ]
  },
  {
   "cell_type": "code",
   "execution_count": 9,
   "metadata": {},
   "outputs": [
    {
     "data": {
      "text/plain": [
       "2"
      ]
     },
     "execution_count": 9,
     "metadata": {},
     "output_type": "execute_result"
    }
   ],
   "source": [
    "# เกมส์ทายเหรียญ\n",
    "import random\n",
    "\n",
    "random.randint(0, 5) #randint = random + integer, \n",
    "#0 = min value, 5 = max value that random number"
   ]
  },
  {
   "cell_type": "code",
   "execution_count": 10,
   "metadata": {},
   "outputs": [
    {
     "name": "stdout",
     "output_type": "stream",
     "text": [
      "Head(type 0) or Tail(type 1):1\n",
      "No !!!!\n"
     ]
    }
   ],
   "source": [
    "# เกมส์ทายเหรียญ\n",
    "\n",
    "# Coin: 0 is Head and 1 is Tail\n",
    "x =random.randint(0,1)\n",
    "\n",
    "# guess\n",
    "y =int(input('Head(type 0) or Tail(type 1):' ))\n",
    "\n",
    "if x == y:\n",
    "  print('Yess !!!')\n",
    "elif y != 0 and y != 1:\n",
    "  print( 'input 0 or 1 only !!!')\n",
    "else:\n",
    "  print( 'No !!!!')"
   ]
  }
 ],
 "metadata": {
  "kernelspec": {
   "display_name": "Python 3",
   "language": "python",
   "name": "python3"
  },
  "language_info": {
   "codemirror_mode": {
    "name": "ipython",
    "version": 3
   },
   "file_extension": ".py",
   "mimetype": "text/x-python",
   "name": "python",
   "nbconvert_exporter": "python",
   "pygments_lexer": "ipython3",
   "version": "3.8.5"
  }
 },
 "nbformat": 4,
 "nbformat_minor": 4
}
