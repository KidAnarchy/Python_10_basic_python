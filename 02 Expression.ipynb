{
 "cells": [
  {
   "cell_type": "markdown",
   "metadata": {},
   "source": [
    " ## Expression"
   ]
  },
  {
   "cell_type": "code",
   "execution_count": null,
   "metadata": {},
   "outputs": [],
   "source": [
    "\"\"\"\n",
    "An expression is a combination of operators and operands that is interpreted to produce some other value. \n",
    "So that if there is more than one operator in an expression, \n",
    "their precedence decides which operation will be performed first. ... \n",
    "We have many different types of expressions in Python.\n",
    "\"\"\""
   ]
  },
  {
   "cell_type": "code",
   "execution_count": 1,
   "metadata": {},
   "outputs": [
    {
     "data": {
      "text/plain": [
       "13"
      ]
     },
     "execution_count": 1,
     "metadata": {},
     "output_type": "execute_result"
    }
   ],
   "source": [
    "# expression : A data value or set of operations to compute a value.\n",
    "1 + 3 * 4"
   ]
  },
  {
   "cell_type": "code",
   "execution_count": 2,
   "metadata": {},
   "outputs": [
    {
     "data": {
      "text/plain": [
       "16"
      ]
     },
     "execution_count": 2,
     "metadata": {},
     "output_type": "execute_result"
    }
   ],
   "source": [
    "# Order in which operations are computed.\n",
    "# Parentheses can be used to force a certain order of evaluation.\n",
    "(1+3)*4"
   ]
  },
  {
   "cell_type": "code",
   "execution_count": 3,
   "metadata": {},
   "outputs": [
    {
     "data": {
      "text/plain": [
       "5.0"
      ]
     },
     "execution_count": 3,
     "metadata": {},
     "output_type": "execute_result"
    }
   ],
   "source": [
    "# When we divide integers with / , the quotient is also an integer.\n",
    "35 / 7"
   ]
  },
  {
   "cell_type": "code",
   "execution_count": 4,
   "metadata": {},
   "outputs": [
    {
     "data": {
      "text/plain": [
       "8.4"
      ]
     },
     "execution_count": 4,
     "metadata": {},
     "output_type": "execute_result"
    }
   ],
   "source": [
    "84/10"
   ]
  },
  {
   "cell_type": "code",
   "execution_count": 5,
   "metadata": {},
   "outputs": [
    {
     "data": {
      "text/plain": [
       "2"
      ]
     },
     "execution_count": 5,
     "metadata": {},
     "output_type": "execute_result"
    }
   ],
   "source": [
    "# Modulo The % operator computes the remainder from a division of integers. จะได้เศษ จากการหาร\n",
    "14%4"
   ]
  },
  {
   "cell_type": "markdown",
   "metadata": {},
   "source": [
    "## Operator and Operand"
   ]
  },
  {
   "cell_type": "code",
   "execution_count": 13,
   "metadata": {},
   "outputs": [
    {
     "data": {
      "text/plain": [
       "5"
      ]
     },
     "execution_count": 13,
     "metadata": {},
     "output_type": "execute_result"
    }
   ],
   "source": [
    "2 + 3"
   ]
  },
  {
   "cell_type": "code",
   "execution_count": null,
   "metadata": {},
   "outputs": [],
   "source": [
    "# Operater: +\n",
    "# Operand: 2, 3\n",
    "# Output: 5"
   ]
  },
  {
   "cell_type": "markdown",
   "metadata": {},
   "source": [
    "## Arithmetic Operators"
   ]
  },
  {
   "cell_type": "code",
   "execution_count": 14,
   "metadata": {},
   "outputs": [],
   "source": [
    "# +    call Add\n",
    "# -    call Subtract or Minus\n",
    "# *    call Multiply or time\n",
    "# /    call Divide\n",
    "# %    call Modulus หาค่าเศษของการหาร มักใช้ในเงื่อนไข\n",
    "# //   call Floor division ผลของการหารไม่เอาเศษ เช่น 7/2 = 3.5 จะได้ 3\n",
    "# **   call Exponent ยกกำลัง **ถ้าSquea rootใช้เศษส่วนช่วย เช่น 25**(1/2) = 5"
   ]
  },
  {
   "cell_type": "code",
   "execution_count": 15,
   "metadata": {},
   "outputs": [
    {
     "data": {
      "text/plain": [
       "5.0"
      ]
     },
     "execution_count": 15,
     "metadata": {},
     "output_type": "execute_result"
    }
   ],
   "source": [
    "25**(1/2)"
   ]
  },
  {
   "cell_type": "markdown",
   "metadata": {},
   "source": [
    "### Python Operators Precedence ลำดับขั้นในการใช้ operator"
   ]
  },
  {
   "cell_type": "code",
   "execution_count": 16,
   "metadata": {},
   "outputs": [],
   "source": [
    "##  **\n",
    "##  ~ + -\n",
    "##  *  /  %  //\n",
    "##  +  -\n",
    "##  >>    <<\n",
    "##  &\n",
    "##  ^    |\n",
    "##  <=  <   >   >=  comparasion operators\n",
    "##  <  >  ==  !=    equality operators\n",
    "##  =   %=  /=  //=  -=  +=  *=  **=    Assignment operators\n",
    "##  is   is not\n",
    "##  in   not in\n",
    "##  not    or    and"
   ]
  },
  {
   "cell_type": "code",
   "execution_count": 17,
   "metadata": {},
   "outputs": [
    {
     "data": {
      "text/plain": [
       "42"
      ]
     },
     "execution_count": 17,
     "metadata": {},
     "output_type": "execute_result"
    }
   ],
   "source": [
    "y = 2 * 5 * 5 - 3 * 5 + 7\n",
    "y"
   ]
  },
  {
   "cell_type": "markdown",
   "metadata": {},
   "source": [
    "### More Math Operations with Python"
   ]
  },
  {
   "cell_type": "code",
   "execution_count": 18,
   "metadata": {},
   "outputs": [],
   "source": [
    "     # Trigonometric :  sin, cos, tan, asin , acos ,\n",
    "\n",
    "     # Exponential and Logarithmic : exp, log, log2, log10, …\n",
    "\n",
    "     # Power :  pow, sqrt, …\n",
    "\n",
    "     # Rounding :  ceil, floor\n",
    "\n",
    "     # Others :  abs, …\n",
    "\n",
    "     # Constant :  pi, e"
   ]
  },
  {
   "cell_type": "code",
   "execution_count": 19,
   "metadata": {},
   "outputs": [
    {
     "name": "stdout",
     "output_type": "stream",
     "text": [
      "5.0\n",
      "3.141592653589793 2.718281828459045\n",
      "114.59155902616465\n",
      "1.0471975511965976\n",
      "0.9092974268256817\n",
      "0.8775825618903728\n",
      "24\n",
      "6\n"
     ]
    }
   ],
   "source": [
    "#Example\n",
    "\n",
    "# importing built in module math\n",
    "import math\n",
    "\n",
    "# using square root(sqrt) function contained\n",
    "# in math module\n",
    "print(math.sqrt(25))\n",
    "\n",
    "\n",
    "# pi and e value\n",
    "print(math.pi, math.e)\n",
    "\n",
    "\n",
    "# 2 radians = 114.59 degreees\n",
    "print(math.degrees(2))\n",
    "\n",
    "\n",
    "# 60 degrees = 1.04 radians\n",
    "print(math.radians(60))\n",
    "\n",
    "\n",
    "# Sine of 2 radians\n",
    "print(math.sin(2))\n",
    "\n",
    "\n",
    "# Cosine of 0.5 radians\n",
    "print(math.cos(0.5))\n",
    "\n",
    "\n",
    "# 1 * 2 * 3 * 4 = 24\n",
    "print(math.factorial(4))\n",
    "\n",
    "\n",
    "# ceil\n",
    "print(math.ceil(5.49))"
   ]
  },
  {
   "cell_type": "code",
   "execution_count": 6,
   "metadata": {},
   "outputs": [
    {
     "name": "stdout",
     "output_type": "stream",
     "text": [
      "First Number5\n",
      "Second Number4\n",
      "54\n"
     ]
    }
   ],
   "source": [
    "# โปรแกรมบวกเลข\n",
    "\n",
    "x = input('First Number')\n",
    "y = input( 'Second Number')\n",
    "\n",
    "print(x+y)\n",
    "# Found it is string"
   ]
  },
  {
   "cell_type": "code",
   "execution_count": 7,
   "metadata": {},
   "outputs": [
    {
     "name": "stdout",
     "output_type": "stream",
     "text": [
      "First Number5\n",
      "Second Number4\n",
      "9.0\n"
     ]
    }
   ],
   "source": [
    "# make it to float in begining\n",
    "\n",
    "x = float(input('First Number'))\n",
    "y = float(input( 'Second Number'))\n",
    "\n",
    "print(x+y)"
   ]
  },
  {
   "cell_type": "code",
   "execution_count": 10,
   "metadata": {},
   "outputs": [
    {
     "name": "stdout",
     "output_type": "stream",
     "text": [
      "First Number5\n",
      "Second Number4\n",
      "9.0\n",
      "1.0\n",
      "20.0\n",
      "625.0\n",
      "1.25\n",
      "1.0\n",
      "1.0\n",
      "1.4953487812212205\n"
     ]
    }
   ],
   "source": [
    "x = float(input('First Number'))\n",
    "y = float(input( 'Second Number'))\n",
    "\n",
    "z1 = x + y\n",
    "z2 = x - y\n",
    "z3 = x * y\n",
    "z4 = x ** y #ยกกำลัง\n",
    "z8 = x ** (1/y) #Square Root\n",
    "z5 = x / y\n",
    "z6 = x // y #หารไม่เอาเศษ\n",
    "z7 = x % y # modulo : หาค่าเศษจากการหาร\n",
    "\n",
    "print(z1)\n",
    "print(z2)\n",
    "print(z3)\n",
    "print(z4)\n",
    "print(z5)\n",
    "print(z6)\n",
    "print(z7)\n",
    "print(z8)"
   ]
  },
  {
   "cell_type": "code",
   "execution_count": 9,
   "metadata": {},
   "outputs": [
    {
     "name": "stdout",
     "output_type": "stream",
     "text": [
      "-10 -10\n"
     ]
    }
   ],
   "source": [
    "x = 2\n",
    "y = 3\n",
    "\n",
    "z1 = x + y * x -x * y**2  #python priority in power -> multiply -> plus,minute\n",
    "z2 = x +(y * x) - (x * (y**2))\n",
    "\n",
    "print(z1, z2)"
   ]
  },
  {
   "cell_type": "markdown",
   "metadata": {},
   "source": [
    "## Example"
   ]
  },
  {
   "cell_type": "code",
   "execution_count": 11,
   "metadata": {},
   "outputs": [
    {
     "name": "stdout",
     "output_type": "stream",
     "text": [
      "3\n",
      "4\n",
      "5\n",
      "11045\n"
     ]
    }
   ],
   "source": [
    "#Input: รับจำนวนเต็ม 3 จำนวนจากแป้นพิมพ์\n",
    "#(บรรทัดละจำนวน) เก็บในตัวแปร h, m และ s ซึ่งแทนจำนวนชั่วโมง นาที และ วินาที\n",
    "#Process: คำนวณจำนวนวินาทีรวมที่คิดจาก h, m และ s\n",
    "#Output: จำนวนวินาทีรวมทั้งหมดที่คำนวณได้\n",
    "\n",
    "h = int(input())    # Hour\n",
    "m = int(input())    # Minute\n",
    "s = int(input())    # Second\n",
    "total = 60*60*h + 60*m + s\n",
    "print( total )      #Result is minutes"
   ]
  },
  {
   "cell_type": "code",
   "execution_count": 12,
   "metadata": {},
   "outputs": [
    {
     "name": "stdout",
     "output_type": "stream",
     "text": [
      "x=5\n",
      "y_Total= -48.40492609956008\n"
     ]
    }
   ],
   "source": [
    "#Input: รับจำนวนจริง 1 จำนวนจากแป้นพิมพ์ เก็บใน x\n",
    "#Process: คำนวณ_y=2-x+(3/7)x**2-(5/11)x**3+log10(x)\n",
    "#Output: ค่า y ที่คำนวณได้\n",
    "\n",
    "import math\n",
    "x = float(input('x='))\n",
    "y = 2 - x + 3/7*x**2 - 5/11*x**3 + math.log(x,10)\n",
    "print('y_Total=',y)"
   ]
  }
 ],
 "metadata": {
  "kernelspec": {
   "display_name": "Python 3",
   "language": "python",
   "name": "python3"
  },
  "language_info": {
   "codemirror_mode": {
    "name": "ipython",
    "version": 3
   },
   "file_extension": ".py",
   "mimetype": "text/x-python",
   "name": "python",
   "nbconvert_exporter": "python",
   "pygments_lexer": "ipython3",
   "version": "3.8.5"
  }
 },
 "nbformat": 4,
 "nbformat_minor": 4
}
