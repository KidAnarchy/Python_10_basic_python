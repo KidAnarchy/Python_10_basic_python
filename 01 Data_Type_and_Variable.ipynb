{
 "cells": [
  {
   "cell_type": "markdown",
   "metadata": {},
   "source": [
    "Python พื้นฐาน เช่น ชนิดของตัวแปร (Types), ตัวแปร (Variables)"
   ]
  },
  {
   "cell_type": "markdown",
   "metadata": {},
   "source": [
    "### Data Type"
   ]
  },
  {
   "cell_type": "code",
   "execution_count": 1,
   "metadata": {},
   "outputs": [
    {
     "name": "stdout",
     "output_type": "stream",
     "text": [
      "3\n",
      "3.6\n",
      "I am learning python\n",
      "6.6\n"
     ]
    }
   ],
   "source": [
    "x = 3                       # Integer\n",
    "y = 3.6                     # float\n",
    "z = 'I am learning python'  # String\n",
    "print(x)\n",
    "print(y)\n",
    "print(z)\n",
    "print(x+y)"
   ]
  },
  {
   "cell_type": "code",
   "execution_count": 2,
   "metadata": {},
   "outputs": [
    {
     "name": "stdout",
     "output_type": "stream",
     "text": [
      "Hello Kong\n"
     ]
    }
   ],
   "source": [
    "name = 'Kong'\n",
    "print('Hello '+ name)"
   ]
  },
  {
   "cell_type": "code",
   "execution_count": 3,
   "metadata": {},
   "outputs": [
    {
     "name": "stdout",
     "output_type": "stream",
     "text": [
      "Who:Kong\n",
      "What:eat\n",
      "Where:home\n",
      "How:stay\n",
      "Kongeathomestay\n"
     ]
    }
   ],
   "source": [
    "s1 = input('Who:')\n",
    "s2 = input('What:')\n",
    "s3 = input('Where:')\n",
    "s4 = input('How:')\n",
    "print(s1 + s2 + s3 + s4)"
   ]
  },
  {
   "cell_type": "code",
   "execution_count": 4,
   "metadata": {},
   "outputs": [
    {
     "name": "stdout",
     "output_type": "stream",
     "text": [
      "Please fill in your name:Kong\n",
      "Hello Kong\n",
      "Welcome to CNX.\n"
     ]
    }
   ],
   "source": [
    "name = input('Please fill in your name:')\n",
    "print( 'Hello '+ name)\n",
    "print('Welcome to CNX.')"
   ]
  },
  {
   "cell_type": "markdown",
   "metadata": {},
   "source": [
    "### Variable"
   ]
  },
  {
   "cell_type": "code",
   "execution_count": 5,
   "metadata": {},
   "outputs": [
    {
     "data": {
      "text/plain": [
       "'\\nA Python variable is a reserved memory location to store values. \\n\\nIn other words, a variable in a python program gives data to the computer for processing. \\n\\nEvery value in Python has a datatype. \\n\\nDifferent data types in Python are Numbers, List, Tuple, Strings, Dictionary, etc.\\n\\n'"
      ]
     },
     "execution_count": 5,
     "metadata": {},
     "output_type": "execute_result"
    }
   ],
   "source": [
    "\"\"\"\n",
    "A Python variable is a reserved memory location to store values. \n",
    "\n",
    "In other words, a variable in a python program gives data to the computer for processing. \n",
    "\n",
    "Every value in Python has a datatype. \n",
    "\n",
    "Different data types in Python are Numbers, List, Tuple, Strings, Dictionary, etc.\n",
    "\n",
    "\"\"\""
   ]
  },
  {
   "cell_type": "code",
   "execution_count": 6,
   "metadata": {},
   "outputs": [
    {
     "name": "stdout",
     "output_type": "stream",
     "text": [
      "10\n",
      "Kong\n"
     ]
    }
   ],
   "source": [
    "x = 10\n",
    "y = \"Kong\"\n",
    "print(x)\n",
    "print(y)"
   ]
  },
  {
   "cell_type": "code",
   "execution_count": 7,
   "metadata": {},
   "outputs": [
    {
     "name": "stdout",
     "output_type": "stream",
     "text": [
      "Kong\n"
     ]
    }
   ],
   "source": [
    "x = 10       # x is of type int\n",
    "x = \"Kong\"   # x is now of type str\n",
    "print(x)"
   ]
  },
  {
   "cell_type": "code",
   "execution_count": 8,
   "metadata": {},
   "outputs": [
    {
     "name": "stdout",
     "output_type": "stream",
     "text": [
      "<class 'int'>\n",
      "<class 'str'>\n"
     ]
    }
   ],
   "source": [
    "# Get the Type\n",
    "x = 10\n",
    "y = \"Kong\"\n",
    "print(type(x))\n",
    "print(type(y))"
   ]
  },
  {
   "cell_type": "code",
   "execution_count": 9,
   "metadata": {},
   "outputs": [
    {
     "name": "stdout",
     "output_type": "stream",
     "text": [
      "10\n"
     ]
    }
   ],
   "source": [
    "# Transform Integer to String\n",
    "# x =10\n",
    "\n",
    "y = str(x)\n",
    "print(y)"
   ]
  },
  {
   "cell_type": "code",
   "execution_count": 11,
   "metadata": {},
   "outputs": [
    {
     "name": "stdout",
     "output_type": "stream",
     "text": [
      "My number is 10\n"
     ]
    }
   ],
   "source": [
    "print('My number is '+ y)"
   ]
  },
  {
   "cell_type": "code",
   "execution_count": 12,
   "metadata": {},
   "outputs": [
    {
     "name": "stdout",
     "output_type": "stream",
     "text": [
      "10.0\n"
     ]
    }
   ],
   "source": [
    "# Transform back: String to Float\n",
    "\n",
    "z = float(y)\n",
    "print(z)"
   ]
  },
  {
   "cell_type": "code",
   "execution_count": 13,
   "metadata": {},
   "outputs": [
    {
     "name": "stdout",
     "output_type": "stream",
     "text": [
      "<class 'float'>\n"
     ]
    }
   ],
   "source": [
    "print(type(z))"
   ]
  }
 ],
 "metadata": {
  "kernelspec": {
   "display_name": "Python 3",
   "language": "python",
   "name": "python3"
  },
  "language_info": {
   "codemirror_mode": {
    "name": "ipython",
    "version": 3
   },
   "file_extension": ".py",
   "mimetype": "text/x-python",
   "name": "python",
   "nbconvert_exporter": "python",
   "pygments_lexer": "ipython3",
   "version": "3.8.5"
  }
 },
 "nbformat": 4,
 "nbformat_minor": 4
}
