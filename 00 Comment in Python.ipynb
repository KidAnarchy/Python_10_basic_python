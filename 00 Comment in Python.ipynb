{
 "cells": [
  {
   "cell_type": "code",
   "execution_count": 1,
   "metadata": {},
   "outputs": [],
   "source": [
    "# A comment in Python starts with the hash character, # , \n",
    "# and extends to the end of the physical line. \n",
    "# A hash character within a string value is not seen as a comment, though. \n",
    "# To be precise, a comment can be written in three ways - entirely on its own line, next to a statement of code, \n",
    "# and as a multi-line comment block."
   ]
  },
  {
   "cell_type": "markdown",
   "metadata": {},
   "source": [
    "### Types of Comments"
   ]
  },
  {
   "cell_type": "markdown",
   "metadata": {},
   "source": [
    "Single-Line Comments"
   ]
  },
  {
   "cell_type": "code",
   "execution_count": 2,
   "metadata": {},
   "outputs": [
    {
     "data": {
      "text/plain": [
       "2"
      ]
     },
     "execution_count": 2,
     "metadata": {},
     "output_type": "execute_result"
    }
   ],
   "source": [
    "# Modulo The % operator computes the remainder from a division of integers. จะได้เศษ จากการหาร\n",
    "\n",
    "14%4"
   ]
  },
  {
   "cell_type": "markdown",
   "metadata": {},
   "source": [
    "Multi-Line Comments"
   ]
  },
  {
   "cell_type": "code",
   "execution_count": 3,
   "metadata": {},
   "outputs": [],
   "source": [
    "# Version 1\n",
    "\n",
    "#Input: รับจำนวนเต็ม 3 จำนวนจากแป้นพิมพ์\n",
    "#\n",
    "#(บรรทัดละจำนวน) เก็บในตัวแปร h, m และ s ซึ่งแทนจำนวนชั่วโมง นาที และ วินาที\n",
    "#Process: คำนวณจำนวนวินาทีรวมที่คิดจาก h, m และ s\n",
    "#\n",
    "#Output: จำนวนวินาทีรวมทั้งหมดที่คำนวณได้"
   ]
  },
  {
   "cell_type": "code",
   "execution_count": null,
   "metadata": {},
   "outputs": [],
   "source": [
    "# Version 2"
   ]
  },
  {
   "cell_type": "code",
   "execution_count": 4,
   "metadata": {},
   "outputs": [
    {
     "data": {
      "text/plain": [
       "'\\nInput: รับจำนวนเต็ม 3 จำนวนจากแป้นพิมพ์\\n\\n(บรรทัดละจำนวน) เก็บในตัวแปร h, m และ s ซึ่งแทนจำนวนชั่วโมง นาที และ วินาที\\nProcess: คำนวณจำนวนวินาทีรวมที่คิดจาก h, m และ s\\n\\nOutput: จำนวนวินาทีรวมทั้งหมดที่คำนวณได้\\n'"
      ]
     },
     "execution_count": 4,
     "metadata": {},
     "output_type": "execute_result"
    }
   ],
   "source": [
    "\"\"\"\n",
    "Input: รับจำนวนเต็ม 3 จำนวนจากแป้นพิมพ์\n",
    "\n",
    "(บรรทัดละจำนวน) เก็บในตัวแปร h, m และ s ซึ่งแทนจำนวนชั่วโมง นาที และ วินาที\n",
    "Process: คำนวณจำนวนวินาทีรวมที่คิดจาก h, m และ s\n",
    "\n",
    "Output: จำนวนวินาทีรวมทั้งหมดที่คำนวณได้\n",
    "\"\"\""
   ]
  },
  {
   "cell_type": "markdown",
   "metadata": {},
   "source": [
    "Common Practice"
   ]
  },
  {
   "cell_type": "code",
   "execution_count": 5,
   "metadata": {},
   "outputs": [],
   "source": [
    "# --------------------------------------------------------------------\n",
    "# Input: รับจำนวนเต็ม 3 จำนวนจากแป้นพิมพ์\n",
    "#\n",
    "# (บรรทัดละจำนวน) เก็บในตัวแปร h, m และ s ซึ่งแทนจำนวนชั่วโมง นาที และ วินาที\n",
    "# Process: คำนวณจำนวนวินาทีรวมที่คิดจาก h, m และ s\n",
    "#\n",
    "# Output: จำนวนวินาทีรวมทั้งหมดที่คำนวณได้\n",
    "# --------------------------------------------------------------------"
   ]
  },
  {
   "cell_type": "markdown",
   "metadata": {},
   "source": [
    "Docstring Comments"
   ]
  },
  {
   "cell_type": "code",
   "execution_count": 6,
   "metadata": {},
   "outputs": [],
   "source": [
    "def add(value1, value2):\n",
    "    \"\"\"Calculate the sum of value1 and value2.\"\"\"\n",
    "    return value1 + value2"
   ]
  },
  {
   "cell_type": "code",
   "execution_count": null,
   "metadata": {},
   "outputs": [],
   "source": [
    ">>> print add.__doc__\n",
    "Calculate the sum of value1 and value2."
   ]
  }
 ],
 "metadata": {
  "kernelspec": {
   "display_name": "Python 3",
   "language": "python",
   "name": "python3"
  },
  "language_info": {
   "codemirror_mode": {
    "name": "ipython",
    "version": 3
   },
   "file_extension": ".py",
   "mimetype": "text/x-python",
   "name": "python",
   "nbconvert_exporter": "python",
   "pygments_lexer": "ipython3",
   "version": "3.8.5"
  }
 },
 "nbformat": 4,
 "nbformat_minor": 4
}
